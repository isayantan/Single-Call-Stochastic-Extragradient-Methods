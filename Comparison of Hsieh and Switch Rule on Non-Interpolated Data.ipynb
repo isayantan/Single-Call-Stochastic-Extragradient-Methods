{
 "cells": [
  {
   "cell_type": "code",
   "execution_count": 2,
   "id": "33bbc288",
   "metadata": {},
   "outputs": [],
   "source": [
    "import numpy as np\n",
    "import matplotlib.pyplot as plt\n",
    "import math"
   ]
  },
  {
   "cell_type": "code",
   "execution_count": 3,
   "id": "642f5f31",
   "metadata": {},
   "outputs": [],
   "source": [
    "# Data Generation\n",
    "\n",
    "n, d = 100, 30\n",
    "\n",
    "max_eq = 1\n",
    "\n",
    "L_max = 1\n",
    "L = np.ones(n)\n",
    "L[0:max_eq] = L_max\n",
    "\n",
    "mu = .6 * np.ones(n)\n",
    "\n",
    "# Generate A\n",
    "\n",
    "A = []\n",
    "for k in range(n):\n",
    "    evalues = np.random.uniform(mu[k], L[k], d)\n",
    "    if k < max_eq:\n",
    "        evalues[0] = L_max\n",
    "    elif k == (n - 1):\n",
    "        evalues[0] = mu[k]\n",
    "    rndm_mx = np.random.normal(0, 1, (d, d))\n",
    "    _, Q = np.linalg.eig(rndm_mx.T @ rndm_mx)\n",
    "    \n",
    "    A.append(Q @ np.diag(evalues) @ Q.T)\n",
    "\n",
    "# Generate C\n",
    "\n",
    "C = []\n",
    "for k in range(n):\n",
    "    evalues = np.random.uniform(mu[k], L[k], d)\n",
    "    if k < max_eq:\n",
    "        evalues[0] = L_max\n",
    "    elif k == (n - 1):\n",
    "        evalues[0] = mu[k]\n",
    "    rndm_mx = np.random.normal(0, 1, (d, d))\n",
    "    _, Q = np.linalg.eig(rndm_mx.T @ rndm_mx)\n",
    "    \n",
    "    C.append(Q @ np.diag(evalues) @ Q.T)\n",
    "\n",
    "# Generate B\n",
    "\n",
    "mu = np.zeros(n)\n",
    "B = []\n",
    "for k in range(n):\n",
    "    evalues = np.random.uniform(mu[k], L[k], d)\n",
    "    if k < max_eq:\n",
    "        evalues[0] = L_max\n",
    "    elif k == (n - 1):\n",
    "        evalues[0] = mu[k]\n",
    "    rndm_mx = np.random.normal(0, 1, (d, d))\n",
    "    _, Q = np.linalg.eig(rndm_mx.T @ rndm_mx)\n",
    "    \n",
    "    B.append(Q @ np.diag(evalues) @ Q.T)\n",
    "\n",
    "# Generate a and c from Normal(0,1)\n",
    "a = []\n",
    "c = []\n",
    "for k in range(n):\n",
    "    a.append(np.random.normal(0,1,d))\n",
    "    c.append(np.random.normal(0,1,d))\n",
    "    \n",
    "data = (A, B, C, a, c)\n",
    "\n",
    "# Store A,B,C in a Block Matrix \n",
    "M = []\n",
    "z = []\n",
    "L_M = []\n",
    "for k in range(n):\n",
    "    M.append(np.block([[data[0][k], data[1][k]], [-data[1][k].T, data[2][k]]]))\n",
    "    z.append(np.concatenate((data[3][k], data[4][k])))\n",
    "    eigenvalues, _ = np.linalg.eig(M[k].T @ M[k])\n",
    "    L_M.append(np.sqrt(max(eigenvalues)))\n",
    "\n",
    "M_mean = np.mean(M, axis = 0)\n",
    "eigen, _ = np.linalg.eig(M_mean.T @ M_mean)\n",
    "L_total = np.sqrt(np.max(eigen))\n",
    "mu_total = np.sqrt(np.min(eigen))\n",
    "\n",
    "# Store the Data to use for Operator F\n",
    "dat = (M,z)\n",
    "\n",
    "# Compute the Optimal point\n",
    "x_optimal = - np.linalg.inv(M_mean) @ np.mean(z, axis = 0)\n",
    "\n",
    "# Uniform Sampling parameters\n",
    "p_uniform = np.ones(n)/n\n",
    "delta_uniform = 2 * np.mean(np.array(L_M)**2)"
   ]
  },
  {
   "cell_type": "code",
   "execution_count": 4,
   "id": "561d9ee5",
   "metadata": {},
   "outputs": [],
   "source": [
    "def operator_F(x, data, i):\n",
    "    return data[0][i] @ x + data[1][i]\n",
    "\n",
    "def SPEG_constant(x_0, x_optimal, L, mu, delta, n, data, operator, prob, iterations = 1000, trials = 5):\n",
    "    relative_error = np.zeros((trials, iterations))\n",
    "    initial_error = np.sum((x_0 - x_optimal)**2)\n",
    "    \n",
    "    omega_hat = min(.25/L, mu/(18 * delta))\n",
    "    \n",
    "    for trial in range(trials):\n",
    "        i = np.random.choice(range(n), 1, p = prob)[0]\n",
    "        op = operator(x_0, data, i)\n",
    "        x = x_0 - omega_hat * op\n",
    "        \n",
    "        for k in range(iterations):\n",
    "            x_mid = x - omega_hat * op\n",
    "            i = np.random.choice(range(n), 1, p = prob)[0]\n",
    "            op = operator(x_mid, data, i)\n",
    "            x = x - omega_hat * op\n",
    "            \n",
    "            relative_error[trial, k] = np.sum((x - x_optimal)**2)/ initial_error\n",
    "\n",
    "    return np.mean(relative_error, axis = 0)\n",
    "\n",
    "def SPEG_Hsieh(x_0, x_optimal, L, mu, gamma, b, n, data, operator, prob, iterations = 1000, trials = 5):\n",
    "    relative_error = np.zeros((trials, iterations))\n",
    "    initial_error = np.sum((x_0 - x_optimal)**2)\n",
    "    \n",
    "    for trial in range(trials):\n",
    "        i = np.random.choice(range(n), 1, p = prob)[0]\n",
    "        op = operator(x_0, data, i)\n",
    "        x = x_0 - (gamma * op)/b\n",
    "        \n",
    "        for k in range(iterations):\n",
    "            step = gamma/(k + 1 + b)\n",
    "            x_mid = x - step * op\n",
    "            i = np.random.choice(range(n), 1, p = prob)[0]\n",
    "            op = operator(x_mid, data, i)\n",
    "            x = x - step * op\n",
    "            \n",
    "            relative_error[trial, k] = np.sum((x - x_optimal)**2)/ initial_error\n",
    "    \n",
    "\n",
    "    return np.mean(relative_error, axis = 0)\n",
    "        \n",
    "\n",
    "def SPEG_decreasing(x_0, x_optimal, L, mu, delta, n, data, operator, prob, iterations = 1000, trials = 5):\n",
    "    relative_error = np.zeros((trials, iterations))\n",
    "    initial_error = np.sum((x_0 - x_optimal)**2)\n",
    "    \n",
    "    omega_hat = min(1/(4 * L), mu / (18 * delta))\n",
    "    k_0 = math.ceil(iterations / 2)\n",
    "    \n",
    "    for trial in range(trials):\n",
    "        if iterations <= 2/(mu * omega_hat):\n",
    "            i = np.random.choice(range(n), 1, p = prob)[0]\n",
    "            op = operator(x_0, data, i)\n",
    "            x = x_0 - omega_hat * op\n",
    "            for k in range(iterations):\n",
    "                x_mid = x - omega_hat * op\n",
    "                i = np.random.choice(range(n), 1, p = prob)[0]\n",
    "                op = operator(x_mid, data, i)\n",
    "                x = x - omega_hat * op\n",
    "                \n",
    "                relative_error[trial, k] = np.sum((x - x_optimal)**2)/initial_error\n",
    "        else:\n",
    "            i = np.random.choice(range(n), 1, p = prob)[0]\n",
    "            op = operator(x_0, data, i)\n",
    "            x = x_0 - omega_hat * op\n",
    "            for k in range(iterations):\n",
    "                if k <= k_0:\n",
    "                    step = omega_hat\n",
    "                else:\n",
    "                    step = (4 * omega_hat)/(4 + mu * omega_hat * (k - k_0))\n",
    "                \n",
    "                x_mid = x - step * op\n",
    "                i = np.random.choice(range(n), 1, p = prob)[0]\n",
    "                op = operator(x_mid, data, i)\n",
    "                x = x - step * op\n",
    "                \n",
    "                relative_error[trial, k] = np.sum((x - x_optimal)**2)/initial_error\n",
    "\n",
    "    \n",
    "    return np.mean(relative_error, axis = 0)\n",
    "\n",
    "\n",
    "def SPEG_switch(x_0, x_optimal, L, mu, delta, n, data, operator, prob, iterations = 1000, trials = 5):\n",
    "    relative_error = np.zeros((trials, iterations))\n",
    "    initial_error = np.sum((x_0 - x_optimal)**2)\n",
    "    \n",
    "    omega_hat = min(1/(4*L), mu/(18 * delta))\n",
    "    k_0 = math.ceil(4/(mu * omega_hat))\n",
    "    #k_0 = switch\n",
    "    \n",
    "    for trial in range(trials):\n",
    "        i = np.random.choice(range(n), 1, p = prob)[0]\n",
    "        op = operator(x_0, data, i)\n",
    "        x = x_0 - omega_hat * op\n",
    "        \n",
    "        for k in range(iterations):\n",
    "            if k <= k_0:\n",
    "                step = omega_hat\n",
    "            else:\n",
    "                step = (4*k + 2)/(mu * (k + 1)**2)\n",
    "                \n",
    "            x_mid = x - step * op\n",
    "            i = np.random.choice(range(n), 1, p = prob)[0]\n",
    "            op = operator(x_mid, data, i)\n",
    "            x = x - step * op\n",
    "            \n",
    "            relative_error[trial, k] = np.sum((x - x_optimal)**2)/ initial_error\n",
    "            \n",
    "    return np.mean(relative_error, axis = 0)"
   ]
  },
  {
   "cell_type": "code",
   "execution_count": 5,
   "id": "09094223",
   "metadata": {},
   "outputs": [],
   "source": [
    "# SPEG_constant_error = SPEG_constant(np.zeros(2*d), x_optimal, L_total,.1, delta_uniform, n, (M,z), operator_F, p_uniform, iterations = 50000, trials = 10)\n",
    "SPEG_switch_errror =  SPEG_switch(np.zeros(2*d), x_optimal,L_total, mu_total, delta_uniform, n, (M,z), operator_F, p_uniform, iterations = 50000)\n",
    "SPEG_Hsieh_error = SPEG_Hsieh(np.zeros(2*d), x_optimal, L_total, mu_total, 20, 100, n, (M,z), operator_F, p_uniform, iterations = 50000)\n"
   ]
  },
  {
   "cell_type": "code",
   "execution_count": 7,
   "id": "e9c72a3b",
   "metadata": {
    "scrolled": true
   },
   "outputs": [
    {
     "data": {
      "image/png": "[encoded data removed]",
      "text/plain": [
       "<Figure size 432x288 with 1 Axes>"
      ]
     },
     "metadata": {
      "needs_background": "light"
     },
     "output_type": "display_data"
    }
   ],
   "source": [
    "fig = plt.figure()\n",
    "\n",
    "markers_on = [10000,20000,30000,40000]\n",
    "plt.plot(np.arange(len(SPEG_switch_errror)), SPEG_switch_errror, '-b>', markevery = markers_on, label= 'Decreasing stepsize (Theorem 4.4)', linewidth = 0.1)\n",
    "plt.plot(np.arange(len(SPEG_Hsieh_error)), SPEG_Hsieh_error, '-rs', markevery = markers_on, label= 'Decreasing stepsize (Hsieh et al, 2019)', linewidth = 0.1)\n",
    "# plt.plot(np.arange(len(SPEG_decreasing_error)), SPEG_decreasing_error, label= 'SPEG decreasing')\n",
    "# plt.plot(np.arange(len(SPEG_switch_error)), SPEG_switch_error, label= 'SPEG switch')\n",
    "plt.axvline(x= 305, color = 'green', linestyle = 'dotted', label = 'Change of step-size')\n",
    "\n",
    "\n",
    "plt.yscale('log')\n",
    "plt.grid(True)\n",
    "plt.ylabel(\"Relative Error\", fontsize = 15)\n",
    "plt.xlabel(\"Number of Iterations\", fontsize = 15)\n",
    "plt.legend(fontsize = 10)\n",
    "#plt.title(\"Comparison on Non-Interpolated Data\")\n",
    "plt.savefig('Constant vs Hsieh Steps on Non-Interpolated Data.pdf', format = 'pdf', bbox_inches='tight')"
   ]
  },
  {
   "cell_type": "code",
   "execution_count": 46,
   "id": "ddb198e1",
   "metadata": {},
   "outputs": [
    {
     "data": {
      "text/plain": [
       "(1.0931944060644276, 0.25352326473621306)"
      ]
     },
     "execution_count": 46,
     "metadata": {},
     "output_type": "execute_result"
    }
   ],
   "source": [
    "1/mu_total, 1/(4 * L_total)"
   ]
  },
  {
   "cell_type": "code",
   "execution_count": 49,
   "id": "c1bb58a4",
   "metadata": {},
   "outputs": [
    {
     "data": {
      "text/plain": [
       "305"
      ]
     },
     "execution_count": 49,
     "metadata": {},
     "output_type": "execute_result"
    }
   ],
   "source": [
    "mu = mu_total\n",
    "omega_hat = min(1/(4*L_total), mu/(18 * delta_uniform))\n",
    "math.ceil(4/(mu * omega_hat))"
   ]
  },
  {
   "cell_type": "code",
   "execution_count": 48,
   "id": "b1b25620",
   "metadata": {},
   "outputs": [
    {
     "data": {
      "text/plain": [
       "(50000,)"
      ]
     },
     "execution_count": 48,
     "metadata": {},
     "output_type": "execute_result"
    }
   ],
   "source": [
    "SPEG_switch_errror.shape"
   ]
  },
  {
   "cell_type": "code",
   "execution_count": 37,
   "id": "4e7985fa",
   "metadata": {},
   "outputs": [],
   "source": [
    "dictionary = {'A':A, 'B': B, 'C':C, 'a': a, 'c':c}\n",
    "\n",
    "import pickle\n",
    "with open('Non Interpolated Data.pickle', 'wb') as handle:\n",
    "    pickle.dump(dictionary, handle, protocol=pickle.HIGHEST_PROTOCOL)\n"
   ]
  },
  {
   "cell_type": "code",
   "execution_count": 38,
   "id": "d6fc8b46",
   "metadata": {},
   "outputs": [],
   "source": [
    "with open('Non Interpolated Data.pickle', 'rb') as handle:\n",
    "    b = pickle.load(handle)"
   ]
  },
  {
   "cell_type": "code",
   "execution_count": null,
   "id": "922121f3",
   "metadata": {},
   "outputs": [],
   "source": []
  }
 ],
 "metadata": {
  "kernelspec": {
   "display_name": "Python 3 (ipykernel)",
   "language": "python",
   "name": "python3"
  },
  "language_info": {
   "codemirror_mode": {
    "name": "ipython",
    "version": 3
   },
   "file_extension": ".py",
   "mimetype": "text/x-python",
   "name": "python",
   "nbconvert_exporter": "python",
   "pygments_lexer": "ipython3",
   "version": "3.9.12"
  }
 },
 "nbformat": 4,
 "nbformat_minor": 5
}
