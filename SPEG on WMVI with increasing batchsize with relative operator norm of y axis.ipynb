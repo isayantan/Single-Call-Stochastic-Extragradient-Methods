{
 "cells": [
  {
   "cell_type": "code",
   "execution_count": 2,
   "id": "ad9db255",
   "metadata": {},
   "outputs": [],
   "source": [
    "import numpy as np\n",
    "import matplotlib.pyplot as plt\n",
    "import math"
   ]
  },
  {
   "cell_type": "code",
   "execution_count": 9,
   "id": "b99b2ba8",
   "metadata": {},
   "outputs": [],
   "source": [
    "n = 100\n",
    "\n",
    "epsilon = list(np.random.uniform(-40, 40, n - 1))\n",
    "epsilon.append(n * np.sqrt(63) - np.sum(epsilon))\n",
    "\n",
    "xi = list(np.random.uniform(-4, 4, n - 1))\n",
    "xi.append(-n - np.sum(xi))\n",
    "\n",
    "p_uniform = np.ones(n)/n\n",
    "\n",
    "L_total = np.sqrt(np.mean(epsilon)**2 + np.mean(xi)**2)\n",
    "rho = 1/(4 * L_total)"
   ]
  },
  {
   "cell_type": "code",
   "execution_count": 10,
   "id": "de86a6b5",
   "metadata": {},
   "outputs": [],
   "source": [
    "def operator_F(x, data, sample):\n",
    "    M = []\n",
    "    for i in sample:\n",
    "        M.append(np.array([[data[1][i], data[0][i]],[-data[0][i], data[1][i]]]))\n",
    "    return np.mean(M, axis = 0) @ x\n",
    "\n",
    "def operator_norm(x):\n",
    "    M = np.array([[np.mean(xi), np.mean(epsilon)], [-np.mean(epsilon), np.mean(xi)]])\n",
    "    return np.sum((M @ x)**2)\n",
    "\n",
    "def SPEG_operator(x_0, x_optimal, step1, step2, batchsize, n, data, operator, prob, iterations = 1000, trials = 10):\n",
    "    \n",
    "    relative_sq_operator_norm = []\n",
    "    initial_error = operator_norm(x_0)\n",
    "    \n",
    "    for trial in range(trials):\n",
    "        sq_operator_norm = []\n",
    "        \n",
    "        sample = np.random.choice(n, batchsize, p = prob)\n",
    "        op = operator(x_0, data, sample)\n",
    "        x = x_0 - step2 * op\n",
    "        \n",
    "        for iteration in range(iterations):\n",
    "            x_mid = x - step1 * op\n",
    "            sample = np.random.choice(n, batchsize, p = prob)\n",
    "            op = operator(x_mid, data, sample)\n",
    "            x = x - step2 * op\n",
    "     \n",
    "            sq_operator_norm.append(operator_norm(x_mid)/initial_error)\n",
    "        relative_sq_operator_norm.append(sq_operator_norm)\n",
    "        \n",
    "    return np.mean(relative_sq_operator_norm, axis = 0)"
   ]
  },
  {
   "cell_type": "code",
   "execution_count": 20,
   "id": "253466b2",
   "metadata": {},
   "outputs": [],
   "source": [
    "no_iterations = 50000\n",
    "x_start = np.random.normal(0, 1, 2)\n",
    "\n",
    "batchsize_fraction = .1\n",
    "\n",
    "SPEG_operator_error = SPEG_operator(x_start, np.zeros(2), .0626, .00009, math.ceil(n * batchsize_fraction), n, (epsilon, xi), operator_F, p_uniform, iterations= no_iterations)"
   ]
  },
  {
   "cell_type": "code",
   "execution_count": 6,
   "id": "3c5ce53f",
   "metadata": {},
   "outputs": [
    {
     "data": {
      "text/plain": [
       "Text(0.5, 1.0, 'SPEG on WMVI')"
      ]
     },
     "execution_count": 6,
     "metadata": {},
     "output_type": "execute_result"
    },
    {
     "data": {
      "image/png": "[encoded data removed]",
      "text/plain": [
       "<Figure size 432x288 with 1 Axes>"
      ]
     },
     "metadata": {
      "needs_background": "light"
     },
     "output_type": "display_data"
    }
   ],
   "source": [
    "fig = plt.figure()\n",
    "markers_on = np.arange(0, no_iterations, no_iterations/10).astype(int)\n",
    "plt.plot(np.arange(no_iterations), SPEG_operator_error, '-bd', mfc = 'red', markevery = markers_on, markersize = 10, label = 'SPEG')\n",
    "\n",
    "plt.yscale('log')\n",
    "plt.grid(True)\n",
    "plt.ylabel(\"Relative Operator Norm\", fontsize = 15)\n",
    "plt.xlabel(\"Number of Iterations\", fontsize = 15)\n",
    "plt.legend(fontsize = 10)\n",
    "plt.title(\"SPEG on WMVI\")\n",
    "\n",
    "plt.savefig(f'SPEG_on_WMVI_w_rel_op_err_batchsize = {batchsize_fraction}.pdf', bbox_inches='tight')"
   ]
  },
  {
   "cell_type": "code",
   "execution_count": 8,
   "id": "09aa77a6",
   "metadata": {},
   "outputs": [
    {
     "data": {
      "text/plain": [
       "(0.125, 0.0625)"
      ]
     },
     "execution_count": 8,
     "metadata": {},
     "output_type": "execute_result"
    }
   ],
   "source": [
    "1/L_total, max(2*rho, 1/(2*L_total))"
   ]
  },
  {
   "cell_type": "code",
   "execution_count": 9,
   "id": "8adc1ae8",
   "metadata": {},
   "outputs": [
    {
     "data": {
      "text/plain": [
       "0.0005000000000000004"
      ]
     },
     "execution_count": 9,
     "metadata": {},
     "output_type": "execute_result"
    }
   ],
   "source": [
    "gamma = .063\n",
    "min(gamma - 2*rho, 1/(4*L_total) - gamma/4)"
   ]
  },
  {
   "cell_type": "code",
   "execution_count": 10,
   "id": "5656102b",
   "metadata": {},
   "outputs": [
    {
     "data": {
      "text/plain": [
       "0.000248"
      ]
     },
     "execution_count": 10,
     "metadata": {},
     "output_type": "execute_result"
    }
   ],
   "source": [
    "omega = .0005\n",
    "(1 - L_total * gamma) * omega"
   ]
  },
  {
   "cell_type": "code",
   "execution_count": 21,
   "id": "372869d8",
   "metadata": {},
   "outputs": [
    {
     "data": {
      "text/plain": [
       "array([    0,  5000, 10000, 15000, 20000, 25000, 30000, 35000, 40000,\n",
       "       45000])"
      ]
     },
     "execution_count": 21,
     "metadata": {},
     "output_type": "execute_result"
    }
   ],
   "source": [
    "markers_on"
   ]
  },
  {
   "cell_type": "code",
   "execution_count": 22,
   "id": "7e5e5774",
   "metadata": {},
   "outputs": [
    {
     "data": {
      "text/plain": [
       "array([1.25440090e+00, 3.84219581e-01, 8.63362400e-02, 1.95309266e-02,\n",
       "       3.99200908e-01, 2.22251572e-02, 4.11012603e-02, 6.08261828e-04,\n",
       "       1.47906458e-04, 9.94653388e-06])"
      ]
     },
     "execution_count": 22,
     "metadata": {},
     "output_type": "execute_result"
    }
   ],
   "source": [
    "SPEG_operator_error[markers_on]"
   ]
  },
  {
   "cell_type": "code",
   "execution_count": 22,
   "id": "d29254fa",
   "metadata": {
    "scrolled": true
   },
   "outputs": [
    {
     "data": {
      "image/png": "[encoded data removed]",
      "text/plain": [
       "<Figure size 432x288 with 1 Axes>"
      ]
     },
     "metadata": {
      "needs_background": "light"
     },
     "output_type": "display_data"
    }
   ],
   "source": [
    "fig = plt.figure()\n",
    "markers_on = np.arange(0, no_iterations, no_iterations/20).astype(int)\n",
    "\n",
    "plt.plot(np.append(markers_on, no_iterations-1), SPEG_operator_error[np.append(markers_on, no_iterations-1)], '-bd', mfc = 'red', label = 'SPEG')\n",
    "plt.yscale('log')\n",
    "plt.grid(True)\n",
    "plt.ylabel(\"Relative Operator Norm\", fontsize = 15)\n",
    "plt.xlabel(\"Number of Iterations\", fontsize = 15)\n",
    "plt.legend(fontsize = 10)\n",
    "plt.savefig(f'SPEG_on_WMVI_w_rel_op_err_batchsize = {batchsize_fraction}.pdf', bbox_inches='tight')"
   ]
  },
  {
   "cell_type": "code",
   "execution_count": 30,
   "id": "daec114f",
   "metadata": {},
   "outputs": [
    {
     "data": {
      "text/plain": [
       "array([    0,  5000, 10000, 15000, 20000, 25000, 30000, 35000, 40000,\n",
       "       45000, 49999])"
      ]
     },
     "execution_count": 30,
     "metadata": {},
     "output_type": "execute_result"
    }
   ],
   "source": [
    "np.append(markers_on, no_iterations-1)"
   ]
  },
  {
   "cell_type": "code",
   "execution_count": null,
   "id": "aa3e8329",
   "metadata": {},
   "outputs": [],
   "source": []
  }
 ],
 "metadata": {
  "kernelspec": {
   "display_name": "Python 3 (ipykernel)",
   "language": "python",
   "name": "python3"
  },
  "language_info": {
   "codemirror_mode": {
    "name": "ipython",
    "version": 3
   },
   "file_extension": ".py",
   "mimetype": "text/x-python",
   "name": "python",
   "nbconvert_exporter": "python",
   "pygments_lexer": "ipython3",
   "version": "3.9.12"
  }
 },
 "nbformat": 4,
 "nbformat_minor": 5
}
