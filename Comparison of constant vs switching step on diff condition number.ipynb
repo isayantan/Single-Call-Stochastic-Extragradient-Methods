{
 "cells": [
  {
   "cell_type": "code",
   "execution_count": 1,
   "id": "1f22cb4a",
   "metadata": {},
   "outputs": [],
   "source": [
    "import numpy as np\n",
    "import math\n",
    "import matplotlib.pyplot as plt"
   ]
  },
  {
   "cell_type": "code",
   "execution_count": 15,
   "id": "196f623e",
   "metadata": {},
   "outputs": [],
   "source": [
    "n, d = 3, 4\n",
    "\n",
    "L = 3\n",
    "mu = 1\n",
    "\n",
    "M = []\n",
    "z = []\n",
    "\n",
    "for idx in range(n):\n",
    "    temp1 = np.ones(d)\n",
    "    temp1[idx] = L\n",
    "    temp2 = np.zeros(d)\n",
    "    temp2[idx] = L\n",
    "    \n",
    "    if idx == 0:\n",
    "        temp2[d - 1] = L\n",
    "        \n",
    "    M.append(np.diag(temp1))\n",
    "    z.append(- np.diag(temp1) @ temp2)\n",
    "\n",
    "# Store Data to use for F\n",
    "dat = (M, z)\n",
    "\n",
    "M_mean = np.mean(M, axis = 0)\n",
    "eigen, _ = np.linalg.eig(M_mean.T @ M_mean)\n",
    "L_total = np.sqrt(np.max(eigen))\n",
    "\n",
    "mu_total = 1\n",
    "\n",
    "# Commpute the Optimal Point\n",
    "x_optimal = - np.linalg.inv(np.mean(M, axis = 0)) @ np.mean(z, axis = 0)\n",
    "\n",
    "# Uniform Sampling parameters\n",
    "p_uniform = np.ones(n)/n\n",
    "delta_uniform = 2 * (L**2)\n"
   ]
  },
  {
   "cell_type": "code",
   "execution_count": 16,
   "id": "d2633e1a",
   "metadata": {},
   "outputs": [
    {
     "data": {
      "text/plain": [
       "(18, 1.6666666666666667)"
      ]
     },
     "execution_count": 16,
     "metadata": {},
     "output_type": "execute_result"
    }
   ],
   "source": [
    "delta_uniform, L_total"
   ]
  },
  {
   "cell_type": "code",
   "execution_count": 17,
   "id": "1723bd3d",
   "metadata": {},
   "outputs": [],
   "source": [
    "def operator_F(x, data, i):\n",
    "    return data[0][i] @ x + data[1][i]\n",
    "\n",
    "def SPEG_constant(x_0, x_optimal, L, mu, delta, n, data, operator, prob, iterations = 1000, trials = 5):\n",
    "    relative_error = np.zeros((trials, iterations))\n",
    "    initial_error = np.sum((x_0 - x_optimal)**2)\n",
    "    \n",
    "    omega_hat = min(.25/L, mu/(18 * delta))\n",
    "    \n",
    "    for trial in range(trials):\n",
    "        i = np.random.choice(range(n), 1, p = prob)[0]\n",
    "        op = operator(x_0, data, i)\n",
    "        x = x_0 - omega_hat * op\n",
    "        \n",
    "        for k in range(iterations):\n",
    "            x_mid = x - omega_hat * op\n",
    "            i = np.random.choice(range(n), 1, p = prob)[0]\n",
    "            op = operator(x_mid, data, i)\n",
    "            x = x - omega_hat * op\n",
    "            \n",
    "            relative_error[trial, k] = np.sum((x - x_optimal)**2)/ initial_error\n",
    "\n",
    "    return np.mean(relative_error, axis = 0)\n",
    "\n",
    "def SPEG_Hsieh(x_0, x_optimal, L, mu, gamma, b, n, data, operator, prob, iterations = 1000, trials = 5):\n",
    "    relative_error = np.zeros((trials, iterations))\n",
    "    initial_error = np.sum((x_0 - x_optimal)**2)\n",
    "    \n",
    "    for trial in range(trials):\n",
    "        i = np.random.choice(range(n), 1, p = prob)[0]\n",
    "        op = operator(x_0, data, i)\n",
    "        \n",
    "        x = x_0 - (gamma * op)/b\n",
    "        \n",
    "        for k in range(iterations):\n",
    "            step = gamma/(k + 1 + b)\n",
    "            x_mid = x - step * op\n",
    "            i = np.random.choice(range(n), 1, p = prob)[0]\n",
    "            op = operator(x_mid, data, i)\n",
    "            x = x - step * op\n",
    "            \n",
    "            relative_error[trial, k] = np.sum((x - x_optimal)**2)/ initial_error\n",
    "    \n",
    "\n",
    "    return np.mean(relative_error, axis = 0)\n",
    "        \n",
    "\n",
    "def SPEG_decreasing(x_0, x_optimal, L, mu, delta, n, data, operator, prob, iterations = 1000, trials = 5):\n",
    "    relative_error = np.zeros((trials, iterations))\n",
    "    initial_error = np.sum((x_0 - x_optimal)**2)\n",
    "    \n",
    "    omega_hat = min(1/(4 * L), mu / (18 * delta))\n",
    "    k_0 = math.ceil(iterations / 2)\n",
    "    \n",
    "    for trial in range(trials):\n",
    "        if iterations <= 2/(mu * omega_hat):\n",
    "            i = np.random.choice(range(n), 1, p = prob)[0]\n",
    "            op = operator(x_0, data, i)\n",
    "            x = x_0 - omega_hat * op\n",
    "            for k in range(iterations):\n",
    "                x_mid = x - omega_hat * op\n",
    "                i = np.random.choice(range(n), 1, p = prob)[0]\n",
    "                op = operator(x_mid, data, i)\n",
    "                x = x - omega_hat * op\n",
    "                \n",
    "                relative_error[trial, k] = np.sum((x - x_optimal)**2)/initial_error\n",
    "        else:\n",
    "            i = np.random.choice(range(n), 1, p = prob)[0]\n",
    "            op = operator(x_0, data, i)\n",
    "            x = x_0 - omega_hat * op\n",
    "            for k in range(iterations):\n",
    "                if k <= k_0:\n",
    "                    step = omega_hat\n",
    "                else:\n",
    "                    step = (4 * omega_hat)/(4 + mu * omega_hat * (k - k_0))\n",
    "                \n",
    "                x_mid = x - step * op\n",
    "                i = np.random.choice(range(n), 1, p = prob)[0]\n",
    "                op = operator(x_mid, data, i)\n",
    "                x = x - step * op\n",
    "                \n",
    "                relative_error[trial, k] = np.sum((x - x_optimal)**2)/initial_error\n",
    "\n",
    "    \n",
    "    return np.mean(relative_error, axis = 0)\n",
    "\n",
    "\n",
    "def SPEG_switch(x_0, x_optimal, L, mu, delta, n, data, operator, prob, iterations = 1000, trials = 5):\n",
    "    relative_error = np.zeros((trials, iterations))\n",
    "    initial_error = np.sum((x_0 - x_optimal)**2)\n",
    "    \n",
    "    omega_hat = min(1/(4*L), mu/(18 * delta))\n",
    "    k_0 = math.ceil(4/(mu * omega_hat))\n",
    "    \n",
    "    for trial in range(trials):\n",
    "        i = np.random.choice(range(n), 1, p = prob)[0]\n",
    "        op = operator(x_0, data, i)\n",
    "        x = x_0 - omega_hat * op\n",
    "        \n",
    "        for k in range(iterations):\n",
    "            if k <= k_0:\n",
    "                step = omega_hat\n",
    "            else:\n",
    "                step = (4*k + 2)/(mu * (k + 1)**2)\n",
    "                \n",
    "            x_mid = x - step * op\n",
    "            i = np.random.choice(range(n), 1, p = prob)[0]\n",
    "            op = operator(x_mid, data, i)\n",
    "            x = x - step * op\n",
    "            \n",
    "            relative_error[trial, k] = np.sum((x - x_optimal)**2)/ initial_error\n",
    "            \n",
    "    return np.mean(relative_error, axis = 0)"
   ]
  },
  {
   "cell_type": "code",
   "execution_count": 19,
   "id": "bc59ead0",
   "metadata": {},
   "outputs": [],
   "source": [
    "no_iterations = int(1e5)\n",
    "\n",
    "SPEG_constant_error = SPEG_constant(np.zeros(d), x_optimal, L_total, mu_total, delta_uniform, n, (M,z), operator_F, p_uniform, iterations = no_iterations, trials = 10)\n",
    "SPEG_switch_errror =  SPEG_switch(np.zeros(d), x_optimal, L_total, mu_total, delta_uniform, n, (M,z), operator_F, p_uniform, iterations = no_iterations, trials = 10)\n",
    "#SPEG_error = SPEG_decreasing(np.zeros(2*d), x_optimal, L_total, mu_total, delta_uniform, n, (M,z), operator_F, p_uniform, iterations = no_iterations, trials = 10)"
   ]
  },
  {
   "cell_type": "code",
   "execution_count": 20,
   "id": "416cfd28",
   "metadata": {},
   "outputs": [
    {
     "data": {
      "image/png": "[encoded data removed]",
      "text/plain": [
       "<Figure size 432x288 with 1 Axes>"
      ]
     },
     "metadata": {
      "needs_background": "light"
     },
     "output_type": "display_data"
    }
   ],
   "source": [
    "omega_hat = min(1/(4*L_total), mu_total/(18 * delta_uniform))\n",
    "switch_point = math.ceil(4/(mu_total * omega_hat))\n",
    "\n",
    "\n",
    "markers_on = np.arange(0, no_iterations, no_iterations/10).astype(int)\n",
    "plt.plot(np.arange(len(SPEG_constant_error)), SPEG_constant_error, '-b>', markevery = markers_on ,label = 'Constant Stepsize (Theorem 4.1)', linewidth = 0.5)\n",
    "plt.plot(np.arange(len(SPEG_switch_errror)), SPEG_switch_errror, '-rs', markevery = markers_on, label = 'Decreasing Stepsize (Theorem 4.4)', linewidth = 0.5)\n",
    "#plt.plot(np.arange(len(SPEG_decreasing_error)), SPEG_decreasing_error, label = 'SPEG Decreasing')\n",
    "plt.axvline(x= switch_point, color = 'green', linestyle = 'dotted', label = 'Change of step-size')\n",
    "\n",
    "plt.yscale('log')\n",
    "plt.grid(True)\n",
    "plt.ylabel(\"Relative Error\", fontsize = 15)\n",
    "plt.xlabel(\"Number of Iterations\", fontsize = 15)\n",
    "plt.legend(fontsize = 10)\n",
    "\n",
    "plt.savefig(f'constant_switch_comparison_condition = {L_total/mu_total}.pdf', bbox_inches='tight')"
   ]
  },
  {
   "cell_type": "code",
   "execution_count": null,
   "id": "cc09831c",
   "metadata": {},
   "outputs": [],
   "source": []
  }
 ],
 "metadata": {
  "kernelspec": {
   "display_name": "Python 3 (ipykernel)",
   "language": "python",
   "name": "python3"
  },
  "language_info": {
   "codemirror_mode": {
    "name": "ipython",
    "version": 3
   },
   "file_extension": ".py",
   "mimetype": "text/x-python",
   "name": "python",
   "nbconvert_exporter": "python",
   "pygments_lexer": "ipython3",
   "version": "3.9.12"
  }
 },
 "nbformat": 4,
 "nbformat_minor": 5
}
