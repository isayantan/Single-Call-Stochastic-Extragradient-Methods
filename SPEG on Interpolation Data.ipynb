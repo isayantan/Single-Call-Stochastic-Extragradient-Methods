{
 "cells": [
  {
   "cell_type": "code",
   "execution_count": 1,
   "id": "b433b2b5",
   "metadata": {},
   "outputs": [],
   "source": [
    "import numpy as np\n",
    "import matplotlib.pyplot as plt\n",
    "import math"
   ]
  },
  {
   "cell_type": "code",
   "execution_count": 2,
   "id": "9c4c9b95",
   "metadata": {},
   "outputs": [],
   "source": [
    "# Data Generation\n",
    "\n",
    "n,d = 100, 30\n",
    "\n",
    "L = np.ones(n)\n",
    "mu = .1 * np.ones(n)\n",
    "\n",
    "# Generate A\n",
    "\n",
    "A = []\n",
    "for k in range(n):\n",
    "    evalues = np.random.uniform(mu[k], L[k], d)\n",
    "    if  k == 0:\n",
    "        evalues[0] = L[k]\n",
    "    elif k == (n-1):\n",
    "        evalues[0] = mu[k]\n",
    "    rndm_mx = np.random.normal(0, 1, (d,d))\n",
    "    _, Q = np.linalg.eig(rndm_mx.T @ rndm_mx)\n",
    "    \n",
    "    A.append(Q @ np.diag(evalues) @ Q.T)\n",
    "\n",
    "# Generate C\n",
    "\n",
    "C = []\n",
    "\n",
    "for k in range(n):\n",
    "    evalues = np.random.uniform(mu[k], L[k], d)\n",
    "    if k == 0:\n",
    "        evalues[0] = L[k]\n",
    "    elif k == (n - 1):\n",
    "        evalues[0] = mu[k]\n",
    "    rndm_mx = np.random.normal(0, 1, (d,d))\n",
    "    _, Q = np.linalg.eig(rndm_mx.T @ rndm_mx)\n",
    "    \n",
    "    C.append(Q @ np.diag(evalues) @ Q.T)\n",
    "    \n",
    "# Generate B\n",
    "\n",
    "B = []\n",
    "mu = np.zeros(n)\n",
    "\n",
    "for k in range(n):\n",
    "    evalues = np.random.uniform(mu[k], L[k], d)\n",
    "    if k == 0:\n",
    "        evalues[0] = L[k]\n",
    "    elif k == (n - 1):\n",
    "        evalues[0] = mu[k]\n",
    "    rndm_mx = np.random.normal(0, 1, (d,d))\n",
    "    _, Q = np.linalg.eig(rndm_mx.T @ rndm_mx)\n",
    "    \n",
    "    B.append(Q @ np.diag(evalues) @ Q.T)\n",
    "    \n",
    "x_optimal = np.random.normal(0, 1, 2*d)\n",
    "\n",
    "M = []\n",
    "z = []\n",
    "L_M = []\n",
    "\n",
    "for k in range(n):\n",
    "    M.append(np.block([[A[k], B[k]], [-B[k].T, C[k]]]))\n",
    "    z.append( -M[k] @ x_optimal)\n",
    "    eigenvalues, _ = np.linalg.eig(M[k].T @ M[k])\n",
    "    L_M.append(np.sqrt(max(eigenvalues)))\n",
    "\n",
    "M_mean = np.mean(M, axis = 0)\n",
    "eigen, _ = np.linalg.eig(M_mean.T @ M_mean)\n",
    "L_total = np.sqrt(np.max(eigen))\n",
    "mu_total = np.sqrt(np.min(eigen))\n",
    "\n",
    "# Store the Data to use for Operator F\n",
    "dat = (M,z)\n",
    "\n",
    "# Uniform Sampling parameters\n",
    "p_uniform = np.ones(n)/n\n",
    "delta_uniform = 2*np.mean(np.array(L_M)**2)"
   ]
  },
  {
   "cell_type": "code",
   "execution_count": 3,
   "id": "784ae988",
   "metadata": {},
   "outputs": [],
   "source": [
    "def operator_F(x, data, i):\n",
    "    return data[0][i] @ x + data[1][i]\n",
    "\n",
    "def SPEG_constant(x_0, x_optimal, L, mu, delta, n, data, operator, prob, iterations = 1000, trials = 5):\n",
    "    relative_error = np.zeros((trials, iterations))\n",
    "    initial_error = np.sum((x_0 - x_optimal)**2)\n",
    "    \n",
    "    omega_hat = min(.25/L, mu/(18 * delta))\n",
    "    \n",
    "    for trial in range(trials):\n",
    "        i = np.random.choice(range(n), 1, p = prob)[0]\n",
    "        op = operator(x_0, data, i)\n",
    "        x = x_0 - omega_hat * op\n",
    "        \n",
    "        for k in range(iterations):\n",
    "            x_mid = x - omega_hat * op\n",
    "            i = np.random.choice(range(n), 1, p = prob)[0]\n",
    "            op = operator(x_mid, data, i)\n",
    "            x = x - omega_hat * op\n",
    "            \n",
    "            relative_error[trial, k] = np.sum((x - x_optimal)**2)/ initial_error\n",
    "\n",
    "    return np.mean(relative_error, axis = 0)\n",
    "\n",
    "def SPEG_Hsieh(x_0, x_optimal, L, mu, gamma, b, n, data, operator, prob, iterations = 1000, trials = 5):\n",
    "    relative_error = np.zeros((trials, iterations))\n",
    "    initial_error = np.sum((x_0 - x_optimal)**2)\n",
    "    \n",
    "    for trial in range(trials):\n",
    "        i = np.random.choice(range(n), 1, p = prob)[0]\n",
    "        op = operator(x_0, data, i)\n",
    "        x = x_0 - (gamma * op)/b\n",
    "        \n",
    "        for k in range(iterations):\n",
    "            step = gamma/(k + 1 + b)\n",
    "            x_mid = x - step * op\n",
    "            i = np.random.choice(range(n), 1, p = prob)[0]\n",
    "            op = operator(x_mid, data, i)\n",
    "            x = x - step * op\n",
    "            \n",
    "            relative_error[trial, k] = np.sum((x - x_optimal)**2)/ initial_error\n",
    "    \n",
    "\n",
    "    return np.mean(relative_error, axis = 0)\n",
    "        \n",
    "\n",
    "def SPEG_decreasing(x_0, x_optimal, L, mu, delta, n, data, operator, prob, iterations = 1000, trials = 5):\n",
    "    relative_error = np.zeros((trials, iterations))\n",
    "    initial_error = np.sum((x_0 - x_optimal)**2)\n",
    "    \n",
    "    omega_hat = min(1/(4 * L), mu / (18 * delta))\n",
    "    k_0 = math.ceil(iterations / 2)\n",
    "    \n",
    "    for trial in range(trials):\n",
    "        if iterations <= 2/(mu * omega_hat):\n",
    "            i = np.random.choice(range(n), 1, p = prob)[0]\n",
    "            op = operator(x_0, data, i)\n",
    "            x = x_0 - omega_hat * op\n",
    "            for k in range(iterations):\n",
    "                x_mid = x - omega_hat * op\n",
    "                i = np.random.choice(range(n), 1, p = prob)[0]\n",
    "                op = operator(x_mid, data, i)\n",
    "                x = x - omega_hat * op\n",
    "                \n",
    "                relative_error[trial, k] = np.sum((x - x_optimal)**2)/initial_error\n",
    "        else:\n",
    "            i = np.random.choice(range(n), 1, p = prob)[0]\n",
    "            op = operator(x_0, data, i)\n",
    "            x = x_0 - omega_hat * op\n",
    "            for k in range(iterations):\n",
    "                if k <= k_0:\n",
    "                    step = omega_hat\n",
    "                else:\n",
    "                    step = (4 * omega_hat)/(4 + mu * omega_hat * (k - k_0))\n",
    "                \n",
    "                x_mid = x - step * op\n",
    "                i = np.random.choice(range(n), 1, p = prob)[0]\n",
    "                op = operator(x_mid, data, i)\n",
    "                x = x - step * op\n",
    "                \n",
    "                relative_error[trial, k] = np.sum((x - x_optimal)**2)/initial_error\n",
    "\n",
    "    \n",
    "    return np.mean(relative_error, axis = 0)\n",
    "\n",
    "\n",
    "def SPEG_switch(x_0, x_optimal, L, mu, delta, n, data, operator, prob, iterations = 1000, trials = 5):\n",
    "    relative_error = np.zeros((trials, iterations))\n",
    "    initial_error = np.sum((x_0 - x_optimal)**2)\n",
    "    \n",
    "    omega_hat = min(1/(4*L), mu/(18 * delta))\n",
    "    k_0 = math.ceil(4/(mu * omega_hat))\n",
    "    \n",
    "    for trial in range(trials):\n",
    "        i = np.random.choice(range(n), 1, p = prob)[0]\n",
    "        op = operator(x_0, data, i)\n",
    "        x = x_0 - omega_hat * op\n",
    "        \n",
    "        for k in range(iterations):\n",
    "            if k <= k_0:\n",
    "                step = omega_hat\n",
    "            else:\n",
    "                step = (4*k + 2)/(mu * (k + 1)**2)\n",
    "                \n",
    "            x_mid = x - step * op\n",
    "            i = np.random.choice(range(n), 1, p = prob)[0]\n",
    "            op = operator(x_mid, data, i)\n",
    "            x = x - step * op\n",
    "            \n",
    "            relative_error[trial, k] = np.sum((x - x_optimal)**2)/ initial_error\n",
    "            \n",
    "    return np.mean(relative_error, axis = 0)"
   ]
  },
  {
   "cell_type": "code",
   "execution_count": 4,
   "id": "05be6931",
   "metadata": {},
   "outputs": [],
   "source": [
    "SPEG_constant_error = SPEG_constant(np.zeros(2*d), x_optimal, L_total, mu_total, delta_uniform, n, (M,z), operator_F, p_uniform, iterations = 10000)\n",
    "SPEG_Hsieh_error = SPEG_Hsieh(np.zeros(2*d), x_optimal, L_total, mu_total, 1.45, 5, n, (M,z), operator_F, p_uniform, iterations = 10000)\n",
    "# SPEG_decreasing_error = SPEG_decreasing(np.zeros(2*d), x_optimal, L_total, mu_total, delta_uniform, n, (M,z), operator_F, p_uniform, iterations = 10000)\n",
    "# SPEG_switch_error = SPEG_switch(np.zeros(2*d), x_optimal, L_total, mu_total, delta_uniform, n, (M,z), operator_F, p_uniform, iterations = 10000)"
   ]
  },
  {
   "cell_type": "code",
   "execution_count": 8,
   "id": "d823fdc8",
   "metadata": {},
   "outputs": [
    {
     "data": {
      "image/png": "[encoded data removed]",
      "text/plain": [
       "<Figure size 432x288 with 1 Axes>"
      ]
     },
     "metadata": {
      "needs_background": "light"
     },
     "output_type": "display_data"
    }
   ],
   "source": [
    "fig = plt.figure()\n",
    "markers_on = [1000, 2000, 3000, 4000, 5000, 6000, 7000, 8000, 9000]\n",
    "plt.plot(np.arange(len(SPEG_constant_error)), SPEG_constant_error, '-b>', markevery = markers_on, label= 'Constant stepsize (Theorem 4.1)')\n",
    "plt.plot(np.arange(len(SPEG_Hsieh_error)), SPEG_Hsieh_error, '-rs', markevery = markers_on, label= 'Decreasing stepsize (Hsieh et al. 2019)')\n",
    "# plt.plot(np.arange(len(SPEG_decreasing_error)), SPEG_decreasing_error, label= 'SPEG decreasing')\n",
    "# plt.plot(np.arange(len(SPEG_switch_error)), SPEG_switch_error, label= 'SPEG switch')\n",
    "\n",
    "plt.yscale('log')\n",
    "plt.grid(True)\n",
    "plt.ylabel(\"Relative Error\", fontsize = 15)\n",
    "plt.xlabel(\"Number of Iterations\", fontsize = 15)\n",
    "plt.legend(fontsize = 10)\n",
    "#plt.title(\"Comparison on Interpolated Data\")\n",
    "plt.savefig('Constant vs Hsieh on Interpolated Data.pdf', format = 'pdf', bbox_inches='tight')"
   ]
  },
  {
   "cell_type": "code",
   "execution_count": 60,
   "id": "27d71405",
   "metadata": {},
   "outputs": [
    {
     "data": {
      "text/plain": [
       "(1.4692377997527208, 0.3159037827355898)"
      ]
     },
     "execution_count": 60,
     "metadata": {},
     "output_type": "execute_result"
    }
   ],
   "source": [
    "1/mu_total, 1/(4 * L_total)"
   ]
  },
  {
   "cell_type": "code",
   "execution_count": 61,
   "id": "1afefc2e",
   "metadata": {},
   "outputs": [
    {
     "data": {
      "text/plain": [
       "(1.4692377997527208, 1.5795189136779488)"
      ]
     },
     "execution_count": 61,
     "metadata": {},
     "output_type": "execute_result"
    }
   ],
   "source": [
    "b = 5\n",
    "1/mu_total, b/(4 * L_total)"
   ]
  },
  {
   "cell_type": "code",
   "execution_count": 62,
   "id": "d9577c6e",
   "metadata": {},
   "outputs": [
    {
     "data": {
      "text/plain": [
       "539"
      ]
     },
     "execution_count": 62,
     "metadata": {},
     "output_type": "execute_result"
    }
   ],
   "source": [
    "omega_hat = min(1/(4*L_total), mu_total/(18 * delta_uniform))\n",
    "math.ceil(4/(mu_total * omega_hat))"
   ]
  },
  {
   "cell_type": "code",
   "execution_count": 63,
   "id": "055e7828",
   "metadata": {},
   "outputs": [
    {
     "data": {
      "text/plain": [
       "3.4657194364734996"
      ]
     },
     "execution_count": 63,
     "metadata": {},
     "output_type": "execute_result"
    }
   ],
   "source": [
    "delta_uniform"
   ]
  }
 ],
 "metadata": {
  "kernelspec": {
   "display_name": "Python 3 (ipykernel)",
   "language": "python",
   "name": "python3"
  },
  "language_info": {
   "codemirror_mode": {
    "name": "ipython",
    "version": 3
   },
   "file_extension": ".py",
   "mimetype": "text/x-python",
   "name": "python",
   "nbconvert_exporter": "python",
   "pygments_lexer": "ipython3",
   "version": "3.9.12"
  }
 },
 "nbformat": 4,
 "nbformat_minor": 5
}
